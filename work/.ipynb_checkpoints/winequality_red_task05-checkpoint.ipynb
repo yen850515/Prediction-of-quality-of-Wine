{
 "cells": [
  {
   "cell_type": "code",
   "execution_count": 65,
   "id": "39971d90-674e-481b-8531-276ed059151a",
   "metadata": {},
   "outputs": [],
   "source": [
    "import pandas as pd\n",
    "import matplotlib.pyplot as plt\n",
    "import seaborn as sns\n",
    "\n",
    "df = pd.read_csv('https://raw.githubusercontent.com/aniruddhachoudhury/Red-Wine-Quality/master/winequality-red.csv')"
   ]
  },
  {
   "cell_type": "code",
   "execution_count": 66,
   "id": "b6738d2b-b342-45ae-8df4-041b41f00cee",
   "metadata": {},
   "outputs": [],
   "source": [
    "wine = df.copy()"
   ]
  }
 ],
 "metadata": {
  "kernelspec": {
   "display_name": "Python 3 (ipykernel)",
   "language": "python",
   "name": "python3"
  },
  "language_info": {
   "codemirror_mode": {
    "name": "ipython",
    "version": 3
   },
   "file_extension": ".py",
   "mimetype": "text/x-python",
   "name": "python",
   "nbconvert_exporter": "python",
   "pygments_lexer": "ipython3",
   "version": "3.11.4"
  }
 },
 "nbformat": 4,
 "nbformat_minor": 5
}
