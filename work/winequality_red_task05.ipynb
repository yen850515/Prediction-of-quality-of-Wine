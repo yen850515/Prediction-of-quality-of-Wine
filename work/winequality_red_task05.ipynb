{
 "cells": [
  {
   "cell_type": "code",
   "execution_count": 1,
   "id": "39971d90-674e-481b-8531-276ed059151a",
   "metadata": {},
   "outputs": [],
   "source": [
    "import numpy as np\n",
    "import pandas as pd\n",
    "import warnings\n",
    "warnings.filterwarnings('ignore')\n",
    "\n",
    "df = pd.read_csv('https://raw.githubusercontent.com/aniruddhachoudhury/Red-Wine-Quality/master/winequality-red.csv')"
   ]
  },
  {
   "cell_type": "code",
   "execution_count": 2,
   "id": "b6738d2b-b342-45ae-8df4-041b41f00cee",
   "metadata": {},
   "outputs": [],
   "source": [
    "wine = df.copy()"
   ]
  },
  {
   "cell_type": "markdown",
   "id": "22b52fb4-bba8-40cd-9e5d-02331ed07bfe",
   "metadata": {},
   "source": [
    "### 請嘗試使用 scikit-learn 中「不同基本分類模型」，並且進行比較結果？"
   ]
  },
  {
   "cell_type": "code",
   "execution_count": null,
   "id": "3e44edc8-3c1b-45c0-b8bb-c66cf0dc8103",
   "metadata": {},
   "outputs": [],
   "source": []
  },
  {
   "cell_type": "code",
   "execution_count": 3,
   "id": "baeb82fd-5ae1-4426-b39e-53d1926989fd",
   "metadata": {},
   "outputs": [],
   "source": [
    "from sklearn.linear_model import LogisticRegression , LogisticRegressionCV\n",
    "from sklearn.ensemble import RandomForestClassifier , GradientBoostingClassifier\n",
    "from sklearn.svm import SVC\n",
    "from sklearn.neighbors import KNeighborsClassifier\n",
    "from sklearn.tree import DecisionTreeClassifier\n",
    "from sklearn.naive_bayes import GaussianNB"
   ]
  },
  {
   "cell_type": "code",
   "execution_count": 4,
   "id": "651f221f-821e-4a4c-80be-af9ba1cf9dde",
   "metadata": {},
   "outputs": [],
   "source": [
    "log = LogisticRegression(random_state = 0 , max_iter = 1000)\n",
    "logcv = LogisticRegressionCV(random_state=0 , max_iter = 3000)\n",
    "svc = SVC(random_state = 0)\n",
    "decisiontree = DecisionTreeClassifier()\n",
    "knn = KNeighborsClassifier(n_neighbors=3)\n",
    "gaussian = GaussianNB()\n",
    "rf = RandomForestClassifier(n_estimators=100)\n",
    "models = [log , logcv , svc , decisiontree , knn , gaussian , rf]"
   ]
  },
  {
   "cell_type": "code",
   "execution_count": 5,
   "id": "97ccaf36-4f09-4b4d-bafc-5b671f2d1661",
   "metadata": {},
   "outputs": [],
   "source": [
    "model_names = ['Logistic Regression' , 'Logistic Regression CV' , 'SVC' , 'Decision Tree' , 'KNN' , 'Gaussian Navive' , 'Random Forest']\n",
    "res = []\n",
    "from sklearn.model_selection import cross_val_score\n",
    "\n",
    "def score(model , x , y):\n",
    "  return cross_val_score(model , x , y , cv=3 , scoring = 'accuracy').mean()"
   ]
  },
  {
   "cell_type": "code",
   "execution_count": 6,
   "id": "430dac1a-91b1-4ca3-bcd9-54382d703800",
   "metadata": {},
   "outputs": [
    {
     "data": {
      "text/html": [
       "<div>\n",
       "<style scoped>\n",
       "    .dataframe tbody tr th:only-of-type {\n",
       "        vertical-align: middle;\n",
       "    }\n",
       "\n",
       "    .dataframe tbody tr th {\n",
       "        vertical-align: top;\n",
       "    }\n",
       "\n",
       "    .dataframe thead th {\n",
       "        text-align: right;\n",
       "    }\n",
       "</style>\n",
       "<table border=\"1\" class=\"dataframe\">\n",
       "  <thead>\n",
       "    <tr style=\"text-align: right;\">\n",
       "      <th></th>\n",
       "      <th>Model</th>\n",
       "      <th>Average Score</th>\n",
       "    </tr>\n",
       "  </thead>\n",
       "  <tbody>\n",
       "    <tr>\n",
       "      <th>1</th>\n",
       "      <td>Logistic Regression CV</td>\n",
       "      <td>0.572858</td>\n",
       "    </tr>\n",
       "    <tr>\n",
       "      <th>6</th>\n",
       "      <td>Random Forest</td>\n",
       "      <td>0.567855</td>\n",
       "    </tr>\n",
       "    <tr>\n",
       "      <th>0</th>\n",
       "      <td>Logistic Regression</td>\n",
       "      <td>0.561601</td>\n",
       "    </tr>\n",
       "    <tr>\n",
       "      <th>5</th>\n",
       "      <td>Gaussian Navive</td>\n",
       "      <td>0.541588</td>\n",
       "    </tr>\n",
       "    <tr>\n",
       "      <th>2</th>\n",
       "      <td>SVC</td>\n",
       "      <td>0.482802</td>\n",
       "    </tr>\n",
       "    <tr>\n",
       "      <th>3</th>\n",
       "      <td>Decision Tree</td>\n",
       "      <td>0.460913</td>\n",
       "    </tr>\n",
       "    <tr>\n",
       "      <th>4</th>\n",
       "      <td>KNN</td>\n",
       "      <td>0.424015</td>\n",
       "    </tr>\n",
       "  </tbody>\n",
       "</table>\n",
       "</div>"
      ],
      "text/plain": [
       "                    Model  Average Score\n",
       "1  Logistic Regression CV       0.572858\n",
       "6           Random Forest       0.567855\n",
       "0     Logistic Regression       0.561601\n",
       "5         Gaussian Navive       0.541588\n",
       "2                     SVC       0.482802\n",
       "3           Decision Tree       0.460913\n",
       "4                     KNN       0.424015"
      ]
     },
     "execution_count": 6,
     "metadata": {},
     "output_type": "execute_result"
    }
   ],
   "source": [
    "columns_X = list(set(wine.columns) - {'quality'})\n",
    "columns_y = ['quality']\n",
    "\n",
    "train_X = wine[columns_X]\n",
    "train_y = wine[columns_y]\n",
    "\n",
    "for num in range(len(models)):\n",
    "    res.append({'Model':model_names[num] , 'Average Score': score(models[num] , train_X , train_y)})\n",
    "    \n",
    "res = pd.DataFrame(res)\n",
    "res.sort_values('Average Score', ascending=False)"
   ]
  },
  {
   "cell_type": "markdown",
   "id": "676a93cf-d4b0-46ed-8122-909e51abe310",
   "metadata": {},
   "source": [
    "### 可以利用「sklearn.model_selection 下的 GridSearchCV(...)」進行參數的調整。"
   ]
  },
  {
   "cell_type": "code",
   "execution_count": 7,
   "id": "2bb41484-70a2-485c-8ba6-e1a58aa7de2b",
   "metadata": {},
   "outputs": [],
   "source": [
    "from sklearn.model_selection import GridSearchCV\n",
    "\n",
    "wine2 = df.copy()"
   ]
  },
  {
   "cell_type": "code",
   "execution_count": 8,
   "id": "245f17a2-8fd6-4ecc-a974-d9cddeec3d5f",
   "metadata": {},
   "outputs": [],
   "source": [
    "columns_X = list(set(wine2.columns) - {'quality'})\n",
    "columns_y = ['quality']\n",
    "\n",
    "train_X = wine2[columns_X]\n",
    "train_y = wine2[columns_y]"
   ]
  },
  {
   "cell_type": "code",
   "execution_count": 10,
   "id": "23020e91-01d3-4553-838b-1b41215dbe29",
   "metadata": {},
   "outputs": [
    {
     "name": "stdout",
     "output_type": "stream",
     "text": [
      "Best Parameters:  {'C': 100, 'penalty': 'l1', 'solver': 'liblinear'}\n",
      "Best Score:  0.5703564727954972\n"
     ]
    }
   ],
   "source": [
    "# Logistic Regression\n",
    "log_reg = LogisticRegression()\n",
    "\n",
    "# 定義超參數範圍\n",
    "param_grid = {\n",
    "    'penalty' : ['l1', 'l2'], # 正則化參數\n",
    "    'C' : [0.001, 0.01, 0.1, 1, 10, 100, 1000], # C參數\n",
    "    'solver' : ['liblinear'] # 優化算法\n",
    "}\n",
    "\n",
    "# 創建 GridSearchCV 物件\n",
    "grid_search = GridSearchCV(estimator=log_reg, param_grid=param_grid, cv=3, scoring='accuracy')\n",
    "grid_search.fit(train_X, train_y)\n",
    "\n",
    "print(\"Best Parameters: \", grid_search.best_params_)\n",
    "print(\"Best Score: \", grid_search.best_score_)"
   ]
  },
  {
   "cell_type": "code",
   "execution_count": 11,
   "id": "89d80b5c-486f-4270-9350-46edcc653b09",
   "metadata": {},
   "outputs": [
    {
     "name": "stdout",
     "output_type": "stream",
     "text": [
      "Best Parameters:  {'max_depth': 20, 'n_estimators': 150}\n",
      "Best Score:  0.5791119449656035\n"
     ]
    }
   ],
   "source": [
    "# RandomForestClassifier\n",
    "\n",
    "rfc = RandomForestClassifier(random_state=42)\n",
    "\n",
    "Parameters = {\n",
    "  'max_depth' : [5, 10, 20],\n",
    "  'n_estimators': [10, 50, 100, 150],\n",
    "}\n",
    "\n",
    "# 創建 GridSearchCV 物件\n",
    "grid_search = GridSearchCV(estimator=rfc, param_grid=Parameters, cv=3, scoring='accuracy')\n",
    "grid_search.fit(train_X, train_y)\n",
    "\n",
    "print(\"Best Parameters: \", grid_search.best_params_)\n",
    "print(\"Best Score: \", grid_search.best_score_)"
   ]
  },
  {
   "cell_type": "code",
   "execution_count": null,
   "id": "cf3ad6dd-e214-4da7-9799-f7954c503401",
   "metadata": {},
   "outputs": [],
   "source": []
  }
 ],
 "metadata": {
  "kernelspec": {
   "display_name": "Python 3 (ipykernel)",
   "language": "python",
   "name": "python3"
  },
  "language_info": {
   "codemirror_mode": {
    "name": "ipython",
    "version": 3
   },
   "file_extension": ".py",
   "mimetype": "text/x-python",
   "name": "python",
   "nbconvert_exporter": "python",
   "pygments_lexer": "ipython3",
   "version": "3.11.4"
  }
 },
 "nbformat": 4,
 "nbformat_minor": 5
}
